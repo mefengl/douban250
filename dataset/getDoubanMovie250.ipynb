{
 "cells": [
  {
   "cell_type": "code",
   "execution_count": null,
   "id": "663460d9",
   "metadata": {},
   "outputs": [],
   "source": [
    "import requests\n",
    "from bs4 import BeautifulSoup\n",
    "headers={\"User-Agent\": \"Mozilla/5.0 (Macintosh; Intel Mac OS X 10_15_7) AppleWebKit/537.36 (KHTML, like Gecko) Chrome/91.0.4472.114 Safari/537.36\"}"
   ]
  },
  {
   "cell_type": "code",
   "execution_count": null,
   "id": "64bc8c8e",
   "metadata": {},
   "outputs": [],
   "source": [
    "def get_movie_list_in_page(index, get_movies, get_movie_title, get_movie_cover, headers):\n",
    "    response = requests.get(\n",
    "        f\"https://movie.douban.com/top250?start={index}\", headers=headers\n",
    "    )\n",
    "    soup = BeautifulSoup(response.text, \"html.parser\")\n",
    "    return [ { \"title\": get_movie_title(movie), \"cover\": get_movie_cover(movie), \"check\": False } for movie in get_movies(soup) ]"
   ]
  },
  {
   "cell_type": "code",
   "execution_count": null,
   "id": "79dba63b",
   "metadata": {},
   "outputs": [],
   "source": [
    "get_movies = lambda soup: soup.find_all(\"div\", class_=\"pic\")\n",
    "get_movie_title = lambda movie: movie.find(\"img\").get(\"alt\")\n",
    "get_movie_cover = lambda movie: movie.find(\"img\").get(\"src\")\n",
    "flatten = lambda l: [item for sublist in l for item in sublist]\n",
    "movie_list = flatten([get_movie_list_in_page(index, get_movies, get_movie_title,get_movie_cover, headers) for index in range(0, 250, 25)])"
   ]
  },
  {
   "cell_type": "code",
   "execution_count": null,
   "id": "5db6f584",
   "metadata": {},
   "outputs": [],
   "source": [
    "import json\n",
    "import yaml\n",
    "with open(\"../pages/movie/movie_list.json\", \"w\") as f:\n",
    "    json.dump(movie_list, f, ensure_ascii=False)\n",
    "with open(\"movie_list.yaml\", \"w\") as f:\n",
    "    yaml.dump(movie_list, f, allow_unicode=True)"
   ]
  }
 ],
 "metadata": {
  "kernelspec": {
   "display_name": "Python 3",
   "language": "python",
   "name": "python3"
  },
  "language_info": {
   "codemirror_mode": {
    "name": "ipython",
    "version": 3
   },
   "file_extension": ".py",
   "mimetype": "text/x-python",
   "name": "python",
   "nbconvert_exporter": "python",
   "pygments_lexer": "ipython3",
   "version": "3.10.5"
  },
  "vscode": {
   "interpreter": {
    "hash": "17041b480f452e5ca83a34d38989adadbabd2831b563c8c74f2b6c2997b198eb"
   }
  }
 },
 "nbformat": 4,
 "nbformat_minor": 5
}
