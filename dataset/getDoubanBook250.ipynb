{
 "cells": [
  {
   "cell_type": "code",
   "execution_count": null,
   "id": "663460d9",
   "metadata": {},
   "outputs": [],
   "source": [
    "import requests\n",
    "from bs4 import BeautifulSoup\n",
    "headers={\"User-Agent\": \"Mozilla/5.0 (Macintosh; Intel Mac OS X 10_15_7) AppleWebKit/537.36 (KHTML, like Gecko) Chrome/91.0.4472.114 Safari/537.36\"}"
   ]
  },
  {
   "cell_type": "code",
   "execution_count": null,
   "id": "64bc8c8e",
   "metadata": {},
   "outputs": [],
   "source": [
    "import yaml\n",
    "def get_book_list_in_page(index,get_books, get_book_name, get_book_author, headers):\n",
    "    try:\n",
    "        with open(\"book_list.yml\") as f:\n",
    "            cache = yaml.safe_load(f) or {}\n",
    "            if cache and index in cache:\n",
    "                return cache[index]\n",
    "    except IOError:\n",
    "        cache = {}\n",
    "    if index in cache:\n",
    "        return cache[index]\n",
    "    response = requests.get(f\"https://book.douban.com/top250?start={index}\", headers=headers)\n",
    "    soup = BeautifulSoup(response.text, \"html.parser\")\n",
    "    book_list = [( get_book_name(book), get_book_author(book) ) for book in get_books(soup)]\n",
    "    with open(\"book_list.yml\", \"w\") as f:\n",
    "        cache[index] = book_list\n",
    "        yaml.safe_dump(cache, f, allow_unicode=True)\n",
    "    return book_list"
   ]
  },
  {
   "cell_type": "code",
   "execution_count": null,
   "id": "79dba63b",
   "metadata": {},
   "outputs": [],
   "source": [
    "get_books = lambda soup: soup.find_all(\"tr\", class_=\"item\")\n",
    "get_book_name = lambda book: book.find(\"a\", title=True).get(\"title\")\n",
    "get_book_author = lambda book: book.find(\"p\", class_=\"pl\").text.split(\"/\")[0].replace(\"著\", \"\").strip()\n",
    "flatten = lambda lst: [item for sublist in lst for item in sublist]\n",
    "book_list = flatten( [get_book_list_in_page(index, get_books, get_book_name, get_book_author, headers) for index in range(1, 11)] )"
   ]
  }
 ],
 "metadata": {
  "kernelspec": {
   "display_name": "Python 3",
   "language": "python",
   "name": "python3"
  },
  "language_info": {
   "codemirror_mode": {
    "name": "ipython",
    "version": 3
   },
   "file_extension": ".py",
   "mimetype": "text/x-python",
   "name": "python",
   "nbconvert_exporter": "python",
   "pygments_lexer": "ipython3",
   "version": "3.9.15 (main, Dec  2 2022, 11:54:20) \n[Clang 13.0.0 (clang-1300.0.29.30)]"
  },
  "vscode": {
   "interpreter": {
    "hash": "2ef1711d7586c0edfe7bd45806c968bc5c5b0e2a2a326b34ac21bedcf44bd393"
   }
  }
 },
 "nbformat": 4,
 "nbformat_minor": 5
}
