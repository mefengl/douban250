{
 "cells": [
  {
   "cell_type": "code",
   "execution_count": null,
   "id": "663460d9",
   "metadata": {},
   "outputs": [],
   "source": [
    "import requests\n",
    "from bs4 import BeautifulSoup\n",
    "headers={\"User-Agent\": \"Mozilla/5.0 (Macintosh; Intel Mac OS X 10_15_7) AppleWebKit/537.36 (KHTML, like Gecko) Chrome/91.0.4472.114 Safari/537.36\"}"
   ]
  },
  {
   "cell_type": "code",
   "execution_count": null,
   "id": "64bc8c8e",
   "metadata": {},
   "outputs": [],
   "source": [
    "def get_book_list_in_page(index, get_books, get_book_title, get_book_author, headers):\n",
    "    response = requests.get(\n",
    "        f\"https://book.douban.com/top250?start={index}\", headers=headers\n",
    "    )\n",
    "    soup = BeautifulSoup(response.text, \"html.parser\")\n",
    "    return [ { \"title\": get_book_title(book), \"author\": get_book_author(book), \"check\": False } for book in get_books(soup) ]"
   ]
  },
  {
   "cell_type": "code",
   "execution_count": null,
   "id": "79dba63b",
   "metadata": {},
   "outputs": [],
   "source": [
    "get_books = lambda soup: soup.find_all(\"tr\", class_=\"item\")\n",
    "get_book_title = lambda book: book.find(\"a\", title=True).get(\"title\")\n",
    "get_book_author = lambda book: book.find(\"p\", class_=\"pl\").text.split(\"/\")[0].replace(\"著\", \"\").strip()\n",
    "flatten = lambda l: [item for sublist in l for item in sublist]\n",
    "book_list = flatten([get_book_list_in_page(index, get_books, get_book_title, get_book_author, headers) for index in range(0, 250, 25)])"
   ]
  },
  {
   "cell_type": "code",
   "execution_count": null,
   "id": "8cfab0d6",
   "metadata": {},
   "outputs": [],
   "source": [
    "for book in book_list:\n",
    "    if book[\"title\"] == \"论语\":\n",
    "        book[\"author\"] = \"\"\n",
    "    elif book[\"title\"] == \"道德经\":\n",
    "        book[\"author\"] = \"\"\n",
    "    elif book[\"title\"] == \"庄子\":\n",
    "        book[\"author\"] = \"\""
   ]
  },
  {
   "cell_type": "code",
   "execution_count": null,
   "id": "5db6f584",
   "metadata": {},
   "outputs": [],
   "source": [
    "import json\n",
    "import yaml\n",
    "with open(\"../pages/book_list.json\", \"w\") as f:\n",
    "    json.dump(book_list, f, ensure_ascii=False)\n",
    "with open(\"book_list.yaml\", \"w\") as f:\n",
    "    yaml.dump(book_list, f, allow_unicode=True)"
   ]
  }
 ],
 "metadata": {
  "kernelspec": {
   "display_name": "Python 3",
   "language": "python",
   "name": "python3"
  },
  "language_info": {
   "codemirror_mode": {
    "name": "ipython",
    "version": 3
   },
   "file_extension": ".py",
   "mimetype": "text/x-python",
   "name": "python",
   "nbconvert_exporter": "python",
   "pygments_lexer": "ipython3",
   "version": "3.10.5"
  },
  "vscode": {
   "interpreter": {
    "hash": "17041b480f452e5ca83a34d38989adadbabd2831b563c8c74f2b6c2997b198eb"
   }
  }
 },
 "nbformat": 4,
 "nbformat_minor": 5
}
